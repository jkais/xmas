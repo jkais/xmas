{
 "cells": [
  {
   "cell_type": "markdown",
   "metadata": {},
   "source": [
    "![Weihnachtsfeier](https://i.imgur.com/vbjVuO7.jpg)\n",
    "\n",
    "![Ballmer Peak](https://imgs.xkcd.com/comics/ballmer_peak.png)\n",
    "\n",
    "![Python](https://i.imgur.com/I0wnDsT.png)\n",
    "\n",
    "# I Make You Python\n",
    "\n",
    "Heute lernen wir ein wenig Python-Programmieren im Schnelldurchlauf.\n",
    "\n",
    "* Als erstes schauen wir uns ein paar der wichtigsten Elemente einer Programmiersprache am Beispiel Python an.\n",
    "* Das reicht dann hoffentlich, um in Kleingruppen eine Weihnachtsprogrammieraufgabe lösen zu können.\n",
    "* Und am Ende stellen wir die Ergebnisse vor.\n",
    "\n",
    "### Warum Python?\n",
    "\n",
    "* Sehr leicht zu erlernen und dennoch extrem mächtig\n",
    "* Sehr vielseitig einsetzbar\n",
    "* Aktuell schwer angesagt (Im [TIOBE Index](https://www.tiobe.com/tiobe-index/) hinter C und Java auf Platz 3)\n",
    "* Extrem beliebt für AI bzw Machine Learning ([TensorFlow](https://www.tensorflow.org/), [NumPy](https://numpy.org/))\n",
    "\n",
    "Na, dann mal los jetzt.\n",
    "\n",
    "# Programmieren? Was ist das eigentlich?\n",
    "\n",
    "Computer sind zwar unfassbar schnell und fleissig, aber leider auch sehr, sehr dumm. Von sich kommen die nicht auf gute Ideen. Wir Menschen sind im Vergleich deutlich langsamer und fauler. Aber wir haben tolle Ideen! Warum also keine Arbeitsteilung probieren? Wir schreiben unsere Ideen auf. Und der Computer führt sich superschnell immer und immer wieder aus.\n",
    "\n",
    "Die meisten Programmiersprachen funktionieren so ähnlich wie ein Kochrezept.\n",
    "\n",
    "So sieht ein sehr empfehlenswertes Kochrezept aus:\n",
    "```\n",
    "Käsebrot\n",
    "\n",
    "1 Scheibe Brot\n",
    "1 Scheibe Käse\n",
    "etwas Butter\n",
    "\n",
    "- Schmier die Butter auf das Brot.\n",
    "- Leg die Käsescheibe auf das Brot.\n",
    "- Lecker!\n",
    "```\n",
    "\n",
    "Und so sieht ein einfaches Computerprogramm aus:\n",
    "```\n",
    "a = 3\n",
    "b = 2\n",
    "c = 8\n",
    "\n",
    "y = (a + b) * c\n",
    "y = y + 2\n",
    "print(y)\n",
    "```"
   ]
  },
  {
   "cell_type": "markdown",
   "metadata": {},
   "source": [
    "# Hello World\n",
    "\n",
    "Entwickler fangen am liebsten mit einer Übung an, die sie `Hello World` nennen. Was muss ich tun, um möglichst schnell die Ausgabe `Hello World` auf den Bildschirm zu zaubern. Habe ich das erstmal geschafft, wird der Rest, äääähem, einfach. In einigen Programmiersprachen braucht man dafür schon mal ein paar Stunden. Nicht so in Python:"
   ]
  },
  {
   "cell_type": "code",
   "execution_count": 7,
   "metadata": {},
   "outputs": [
    {
     "name": "stdout",
     "output_type": "stream",
     "text": [
      "Hello World.\n"
     ]
    }
   ],
   "source": [
    "print(\"Hello World.\")"
   ]
  },
  {
   "cell_type": "markdown",
   "metadata": {},
   "source": [
    "Fertig. So geht das in Python. Wer sich weiter mit Python beschäftigt, wird seinen Code vermutlich lieber auf seinem Rechner laufen lassen. Da ist es aber ähnlich einfach wie hier.\n",
    "\n",
    "Was wir uns merken sollten:\n",
    "* Mit `print(\"Irgendwas\")` können wir hier etwas ausgeben.\n",
    "\n",
    "\n",
    "# Variablen\n",
    "\n",
    "Auf die Dauer ist es etwas eintönig, nur Sachen wie `Hello World` ausgeben zu können. Der Computer soll ja coole Sachen tun. Er soll mit Zahlen rechnen, Daten in Datenbanken schreiben und Katzen auf Fotos erkennen. Dafür ist es ziemlich wichtig, dass wir (Zwischen-)Ergebnisse irgendwo speichern können. Das tun wir in Variablen. Variablen sind kleine Töpfe, denen wir einen Namen geben. Und dann können wir Sachen in diese Töpfe reintun, verändern und lesen."
   ]
  },
  {
   "cell_type": "code",
   "execution_count": null,
   "metadata": {},
   "outputs": [],
   "source": [
    "a = 1\n",
    "b = 2\n",
    "print(a)\n",
    "print(b)"
   ]
  },
  {
   "cell_type": "markdown",
   "metadata": {},
   "source": [
    "Was wir uns merken sollten:\n",
    "* Zum Zuweisen einer Variable schreiben wir links den Namen, dann ein `=` und dann den Wert\n",
    "* Über den Namen können wir dann auf den Wert zugreifen\n",
    "\n",
    "# Rechnen\n",
    "\n",
    "Einfach nur Dinge in Töpfe tun und wieder herausholen wird auch recht schnell langweilig. Was könnte man denn noch tun? Rechnen! Das wär doch stark. So wie damals in der Grundschule Plusminusmalgeteilt! Die Zeichen für `+` und `-` sind sicherlich selbsterklärend. Für Mal benutzen wir `*`, das kennt man so vielleicht noch aus der Grundschule. Und für Geteilt benutzen wir `/`, also sowas wie einen Bruchstrich zwischen den Werten.\n",
    "\n",
    "Und wie wir ebenfalls aus der Grundschule wissen, ist es manchmal nicht verkehrt Klammern zu setzen. Python folgt zwar schon Regeln wie Punkt- vor Strichrechnung. Aber alleine für die Lesbarkeit unseres Codes ist es manchmal schon sinnvoll, Klammern zu setzen.\n",
    "\n",
    "Und so geht das dann:"
   ]
  },
  {
   "cell_type": "code",
   "execution_count": 3,
   "metadata": {},
   "outputs": [
    {
     "name": "stdout",
     "output_type": "stream",
     "text": [
      "8\n",
      "4\n",
      "-32\n",
      "3.0\n"
     ]
    }
   ],
   "source": [
    "a = 6\n",
    "b = 2\n",
    "c = a + b\n",
    "d = 2 * b\n",
    "e = (b - a) * c\n",
    "\n",
    "print(c)\n",
    "print(d)\n",
    "print(e)\n",
    "print(a / b)"
   ]
  },
  {
   "cell_type": "markdown",
   "metadata": {},
   "source": [
    "Bei der letzten Berechnung kommt `3.0` und nicht `3` heraus. Das liegt daran, dass Python weiß, dass Teilen sehr häufig nicht ganz aufgeht und deswegen gibt es immer eine Nachkommazahl zurück, selbst wenn es glatt teilbar ist. Warum das so ist, kann uns für heute egal sein. Im englischen Sprachraum wird statt eines Kommas zum Trennen ein Punkt verwendet, darum `3.0` und nicht `3,0`. Was es mit diesen zwei Arten Zahlen auf sich hat, betrachten wir im nächsten Kapitel noch etwas genauer.\n",
    "\n",
    "Was wir uns merken sollten:\n",
    "* Rechnen ist super, besonders wenn es der Computer für uns tut.\n",
    "* Für unsere Weihnachtsaufgabe werden wir `+` und `*`benötigen.\n",
    "\n",
    "\n",
    "# Datentypen\n",
    "\n",
    "Eher zufällig haben wir gesehen, dass es offenbar nicht nur ganze Zahlen in Python gibt. Es gibt auch Nachkommazahlen. Und mehr oder weniger unendlich viele weitere Datentypen. Die können wir uns als Experten nämlich später auch selber schreiben. Aber nicht mehr heute. Für heute reicht uns die Tatsache, dass das so ist. Und dass das prima ist.\n",
    "\n",
    "### Integer\n",
    "\n",
    "Das sind Ganzzahlen. Haben wir oben schon benutzt und das reicht uns auch erstmal.\n",
    "\n",
    "\n",
    "### Float\n",
    "\n",
    "Das sind Nachkommazahlen. Haben wir auch schon kurz gesehen, kann uns aber egal sein.\n",
    "\n",
    "\n",
    "### String\n",
    "\n",
    "Der vor allen Dingen für uns heute wichtigste Datentyp, den wir uns anschauen sollten, ist `String`. Den haben wir im Kapitel **Hello World** schon verwendet. Ein String ist eine Zeichenkette, oder einfacher gesagt ein Text oder Satz. Um Python zu sagen, dass die Buchstaben kein Programmcode, sondern eben ein String sind, setzen wir sie in Anführungszeichen. Hier dürfen wir uns aussuchen, ob wir einfache (`'`) oder doppelte (`\"`) verwenden.\n",
    "\n",
    "Erstmal kann man mit einem String nicht so viel mehr machen, als wir in **Hello World** getan haben. Wo reinschreiben, wo ausgeben. Fertig. Langweilig!\n",
    "\n",
    "Aber! Man kann mit Strings auch \"rechnen\". Mit `+` kleben wir Strings aneinander. Mit `*` gefolgt von einer (ganzen) Zahl wiederholen wir den String entsprechend oft. Das sieht dann so aus:"
   ]
  },
  {
   "cell_type": "code",
   "execution_count": 1,
   "metadata": {},
   "outputs": [
    {
     "name": "stdout",
     "output_type": "stream",
     "text": [
      "Hello World\n"
     ]
    }
   ],
   "source": [
    "print(\"Hello\" + \" \" + \"Wor\" + \"ld\")"
   ]
  },
  {
   "cell_type": "markdown",
   "metadata": {},
   "source": [
    "Und Bart Simpson wäre mit folgendem Code deutlich früher zuhause:"
   ]
  },
  {
   "cell_type": "code",
   "execution_count": 4,
   "metadata": {},
   "outputs": [
    {
     "name": "stdout",
     "output_type": "stream",
     "text": [
      "I will not waste chalk. I will not waste chalk. I will not waste chalk. I will not waste chalk. I will not waste chalk. I will not waste chalk. I will not waste chalk. I will not waste chalk. I will not waste chalk. I will not waste chalk. I will not waste chalk. I will not waste chalk. I will not waste chalk. I will not waste chalk. I will not waste chalk. I will not waste chalk. I will not waste chalk. I will not waste chalk. I will not waste chalk. I will not waste chalk. \n"
     ]
    }
   ],
   "source": [
    "print(\"I will not waste chalk. \" * 20)"
   ]
  },
  {
   "cell_type": "markdown",
   "metadata": {},
   "source": [
    "Mit Strings, Variablen und \"Rechnen\" können wir schon ganz nette Dinge tun:"
   ]
  },
  {
   "cell_type": "code",
   "execution_count": 5,
   "metadata": {},
   "outputs": [
    {
     "name": "stdout",
     "output_type": "stream",
     "text": [
      "Hello Santa Claus!\n"
     ]
    }
   ],
   "source": [
    "first_name = \"Santa\"\n",
    "last_name = \"Claus\"\n",
    "print(\"Hello \" + first_name + \" \" + last_name + \"!\")"
   ]
  },
  {
   "cell_type": "markdown",
   "metadata": {},
   "source": [
    "Ein Problem mit diesen Typen ist, dass es manchmal zu Konfusion führen kann. Nämlich zum Beispiel wenn wir einen String und eine Zahl addieren wollen. Dann ist Python erstmal verwirrt. Deshalb müssen wir in solchen Fällen Python mitteilen, in welchen Typ er einen Wert verwandeln soll.\n",
    "\n",
    "Beispiel:"
   ]
  },
  {
   "cell_type": "code",
   "execution_count": 4,
   "metadata": {},
   "outputs": [
    {
     "ename": "TypeError",
     "evalue": "can only concatenate str (not \"int\") to str",
     "output_type": "error",
     "traceback": [
      "\u001b[0;31m---------------------------------------------------------------------------\u001b[0m",
      "\u001b[0;31mTypeError\u001b[0m                                 Traceback (most recent call last)",
      "\u001b[0;32m<ipython-input-4-48280b28e6d4>\u001b[0m in \u001b[0;36m<module>\u001b[0;34m\u001b[0m\n\u001b[1;32m      1\u001b[0m \u001b[0mminutes_coding\u001b[0m \u001b[0;34m=\u001b[0m \u001b[0;36m10\u001b[0m\u001b[0;34m\u001b[0m\u001b[0;34m\u001b[0m\u001b[0m\n\u001b[0;32m----> 2\u001b[0;31m \u001b[0mprint\u001b[0m\u001b[0;34m(\u001b[0m\u001b[0;34m\"Ich kann schon seit \"\u001b[0m \u001b[0;34m+\u001b[0m \u001b[0mminutes_coding\u001b[0m \u001b[0;34m+\u001b[0m \u001b[0;34m\" Minuten programmieren.\"\u001b[0m\u001b[0;34m)\u001b[0m\u001b[0;34m\u001b[0m\u001b[0;34m\u001b[0m\u001b[0m\n\u001b[0m",
      "\u001b[0;31mTypeError\u001b[0m: can only concatenate str (not \"int\") to str"
     ]
    }
   ],
   "source": [
    "minutes_coding = 15\n",
    "print(\"Ich kann schon seit \" + minutes_coding + \" Minuten programmieren.\")"
   ]
  },
  {
   "cell_type": "markdown",
   "metadata": {},
   "source": [
    "Das gefällt Python so nicht. Über Fehler reden wir später noch kurz. Python sagt uns hier, dass nur Strings aneinandergehängt (concatenate) werden können und keine Integer. Weil dann seltsame Dinge passieren könnten. Also müssen wir Python sagen, dass er die `15` bitte vor dem Aneinanderhängen in einen String verwandeln soll:"
   ]
  },
  {
   "cell_type": "code",
   "execution_count": 6,
   "metadata": {},
   "outputs": [
    {
     "name": "stdout",
     "output_type": "stream",
     "text": [
      "Ich kann schon seit 15 Minuten programmieren.\n"
     ]
    }
   ],
   "source": [
    "minutes_coding = 15\n",
    "print(\"Ich kann schon seit \" + str(minutes_coding) + \" Minuten programmieren.\")"
   ]
  },
  {
   "cell_type": "markdown",
   "metadata": {},
   "source": [
    "Das ist für unsere Programmieraufgabe aber zum Glück (vermutlich) nicht relevant.\n",
    "\n",
    "Es gibt noch unzählige weitere Datentypen, mit denen man sich befassen sollte. Die bereits genannten `Float` (Nachkommazahlen), `Boolean` (Logikausdrücke), `Arrays` (Listen), und, und, und.. \n",
    "\n",
    "Aber die Zeit rennt! Und für unsere Programmieraufgabe sollten uns tatsächlich Ganzzahlen und Strings reichen.\n",
    "\n",
    "Was wir uns merken sollten:\n",
    "* Mit verschiedenen Datentypen kann man jede Menge Dinge tun.\n",
    "* Für heute reichen uns Integer und String.\n",
    "\n",
    "# Schleifen\n",
    "\n",
    "Schleifen gehören nicht nur an jedes ordentliche Geschenk, sondern auch in jede Programmiersprache. Eine Schleife in einer Progammiersprache ist grundsätzlich etwas wie `Tu diese Dinge so lange, bis Ereignis X eintritt`. Denkbar sind Sachen wie:\n",
    "* Multipliziere zwei Variablen so lange, bis das Ergebnis über 1234567 ist.\n",
    "* Lade einen Kunden aus der Datenbank und schick ihm eine Weihnachts-Email, bis jeder eine bekommen hat.\n",
    "\n",
    "Das macht richtig Spaß, weil der Computer dann meist ordentlich zu tun hat und wir einen Schluck Glühwein genießen können. Aber Schleifen sind auch ein bisschen gefährlich, sie können nämlich zur Endlosschleife werden. Ein einfaches Beispiel wäre sowas wie `Addiere zwei positive Zahlen so lange, bis das Ergebnis -100 ist`. Das kann ja nie passieren und da der Computer doof ist, addiert der erstmal sehr, sehr, sehr lange vor sich hin. Bis schlimmstenfalls irgendwas kaputt geht.\n",
    "\n",
    "Für den Fall `Tu etwas X mal` gibt es zum Glück eine Schleife, die nicht zur Endlosschleife werden kann: Die For-Schleife. Leider müssen wir dabei noch zwei wichtige Punkte bedenken:\n",
    "\n",
    "\n",
    "Und die geht so:"
   ]
  },
  {
   "cell_type": "code",
   "execution_count": 3,
   "metadata": {},
   "outputs": [
    {
     "name": "stdout",
     "output_type": "stream",
     "text": [
      "Auf in die Schleife.\n",
      "Das ist der 1. Durchlauf.\n",
      "Das ist der 2. Durchlauf.\n",
      "Das ist der 3. Durchlauf.\n",
      "Das ist der 4. Durchlauf.\n",
      "Das ist der 5. Durchlauf.\n",
      "Schleife hat fertig.\n"
     ]
    }
   ],
   "source": [
    "print(\"Auf in die Schleife.\")\n",
    "for x in range(5):\n",
    "    print(\"Das ist der \" + str(x+1) + \". Durchlauf.\")\n",
    "    \n",
    "print(\"Schleife hat fertig.\")"
   ]
  },
  {
   "cell_type": "markdown",
   "metadata": {},
   "source": [
    "Was wir uns merken sollten:\n",
    "* Schleifen sind supermächtig, aber auch ein bisschen gefährlich.\n",
    "* Für unsere Programmieraufgabe werden wir wohl eine Schleife benötigen, wenn wir uns nicht die Finger brechen wollen.\n",
    "\n",
    "\n",
    "# Bedingte Ausdrücke\n",
    "\n",
    "Sind superwichtig für's Programmieren, aber für unsere Aufgabe (vermutlich) egal. Darum nur ganz kurz."
   ]
  },
  {
   "cell_type": "markdown",
   "metadata": {},
   "source": [
    "# Fehler"
   ]
  },
  {
   "cell_type": "markdown",
   "metadata": {},
   "source": [
    "\n",
    "# Funktionen"
   ]
  },
  {
   "cell_type": "markdown",
   "metadata": {},
   "source": [
    "# Zusammenfassung\n",
    "\n",
    "Auch im Hinblick auf die Programmieraufgabe nochmal alle wichtigen Informationen im Überblick:\n",
    "* Strings werden ...\n",
    "    * ... in `\"Gänsefüßchen\"` gesetzt\n",
    "    * ... mit `\"Ha\" + \"llo\"` werden sie aneinandergesetzt\n",
    "    * ... mit `\"Ho! \" * 10` zehnfach aneinandergesetzt\n",
    "* Integer sind ...\n",
    "    * ... ganze Zahlen zum Rechnen.\n",
    "    * ... in der Programmieraufgabe aber nur in einer Schleife wichtig.\n",
    "* Ausgabe funktioniert ...\n",
    "    * ... direkt mit Zahlen und Strings per `print(\"Hallo\")`\n",
    "    * ... auch direkt aus einer Funktion heraus. Wir müssen also nicht erstmal alles in der Funktion speichern.\n",
    "* Schleifen ...\n",
    "    * ... helfen uns dabei, eine Sache x-fach auszuführen. Zum Beispiel fünfmal: `for x in range(5):`\n",
    "    * ... brauchen nach dem Schleifenkopf eine Einrückung.\n",
    "* Funktionen ...\n",
    "    * ... helfen uns sehr dabei, unseren Code zu strukturieren und wiederzuverwenden\n",
    "    * ... brauchen wir in der Programmieraufgabe aber nur zum Ausführen der Programmieraufgabe (und eigentlich auch gar nicht).\n",
    "* Fehler ...\n",
    "    * ... passieren und sollten uns nicht gleich zum Weinen bringen.\n",
    "    * ... sollen uns Informationen liefern, was falsch ist, damit wir es reparieren können.\n"
   ]
  }
 ],
 "metadata": {
  "kernelspec": {
   "display_name": "Python 3",
   "language": "python",
   "name": "python3"
  },
  "language_info": {
   "codemirror_mode": {
    "name": "ipython",
    "version": 3
   },
   "file_extension": ".py",
   "mimetype": "text/x-python",
   "name": "python",
   "nbconvert_exporter": "python",
   "pygments_lexer": "ipython3",
   "version": "3.7.8"
  }
 },
 "nbformat": 4,
 "nbformat_minor": 4
}
