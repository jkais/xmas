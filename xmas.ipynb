{
 "cells": [
  {
   "cell_type": "markdown",
   "metadata": {},
   "source": [
    "# Aufgabe: Zeichne einen Weihnachtsbaum\n",
    "\n",
    "Nachdem wir im Schnelldurchlauf gelernt haben, wie man in Python programmiert, können wir mit unserem ersten Job beginnen.\n",
    "\n",
    "Der Weihnachtsmann benötigt unsere Hilfe. Er braucht noch ganz schnell jede Menge Weihnachtsbäume in den verschiedensten Größen. Deshalb lautet unser Auftrag:\n",
    "\n",
    "*   Schreibe eine Funktion, die als Eingabe die Höhe des Baumes erhält.\n",
    "*   Diese Funktion soll einen Weihnachtsbaum in der entsprechenden Höhe ausgeben.\n",
    "*   Wer es vergessen hat: Ein Weihnachtsbaum ist so ein grünes Dingen, das im oberen Bereich etwa dreieckig ist. Und unten ist ein Stamm dran.\n",
    "*   Euer Baum sollte also entsprechend der angegebenen Höhe Äste haben. Und unten einen Stamm.\n",
    "*   Das sollte Ergebnis sollte folgendermaßen aussehen:\n",
    "\n",
    "![Tree](https://i.imgur.com/PEzHS7X.png)\n",
    "\n",
    "*   Der Weihnachtsmann freut sich natürlich über jedes weitere Feature, von der Art der Nadeln bis zu einem Stern auf der Spitze. Der Phantasie sind keine Grenzen gesetzt. Und wenn doch: Eine Tasse Glühwein hilft!\n",
    "\n",
    "Natürlich könnt Ihr die Aufgabe gerne so zu lösen versuchen, wie Ihr das möchtet. Ein guter Start ist aber sicherlich die unten angegegebene Funktion samt Aufruf. \n",
    "\n",
    "Um den Code auszuführen, könnt Ihr entweder `SHIFT-ENTER` drücken oder, während Ihr den Code bearbeitet, oben im Menü `Run` anklicken. Anscheinend gibt es je nach Browser auch einen Run-Button links neben dem Code.\n",
    "\n",
    "Um Bäume in einer anderen Größe anzuzeigen, müsst Ihr einfach die Zahl in der Klammer bei `tree(4)` ändern.\n",
    "\n",
    "Viel Spaß!"
   ]
  },
  {
   "cell_type": "code",
   "execution_count": null,
   "metadata": {},
   "outputs": [],
   "source": [
    "def tree(height):\n",
    "    print(\"Ich bin ein Baum\")\n",
    "\n",
    "tree(4)"
   ]
  }
 ],
 "metadata": {
  "kernelspec": {
   "display_name": "Python 3",
   "language": "python",
   "name": "python3"
  },
  "language_info": {
   "codemirror_mode": {
    "name": "ipython",
    "version": 3
   },
   "file_extension": ".py",
   "mimetype": "text/x-python",
   "name": "python",
   "nbconvert_exporter": "python",
   "pygments_lexer": "ipython3",
   "version": "3.7.0"
  }
 },
 "nbformat": 4,
 "nbformat_minor": 4
}
